{
 "cells": [
  {
   "cell_type": "code",
   "execution_count": 1,
   "id": "87aa97a9",
   "metadata": {},
   "outputs": [],
   "source": [
    "from keras.models import Sequential\n",
    "from keras.layers import Conv2D, MaxPooling2D, Flatten, Dense, Dropout\n",
    "from keras.preprocessing.image import ImageDataGenerator\n",
    "from PIL import Image\n",
    "import tensorflow as tf\n",
    "from keras.callbacks import ReduceLROnPlateau"
   ]
  },
  {
   "cell_type": "code",
   "execution_count": 2,
   "id": "666202c8",
   "metadata": {},
   "outputs": [],
   "source": [
    "classifier = Sequential()\n",
    "\n",
    "classifier.add(Conv2D(filters = 64, kernel_size = (3, 3), padding = \"same\", activation = 'relu', input_shape = (28, 28,1)))\n",
    "classifier.add(Conv2D(filters = 64, kernel_size = (3, 3), padding = \"same\", activation = 'relu'))\n",
    "classifier.add(MaxPooling2D(pool_size = (2, 2)))\n",
    "classifier.add(Dropout(0.5))\n",
    "               \n",
    "classifier.add(Conv2D(filters = 128, kernel_size = (3, 3), padding = \"same\", activation = 'relu'))\n",
    "classifier.add(Conv2D(filters = 128, kernel_size = (3, 3), padding = \"same\", activation = 'relu'))\n",
    "classifier.add(MaxPooling2D(pool_size = (2, 2)))\n",
    "classifier.add(Dropout(0.5))\n",
    "               \n",
    "classifier.add(Conv2D(filters = 256, kernel_size = (3, 3), padding = \"same\", activation = 'relu'))\n",
    "classifier.add(Conv2D(filters = 256, kernel_size = (3, 3), padding = \"same\", activation = 'relu'))\n",
    "classifier.add(MaxPooling2D(pool_size = (2, 2)))\n",
    "classifier.add(Dropout(0.5))\n",
    "\n",
    "\n",
    "classifier.add(Flatten())\n",
    "               \n",
    "classifier.add(Dense(units = 128, activation = 'relu'))\n",
    "classifier.add(Dense(units = 50, activation = 'softmax'))\n",
    "\n",
    "opt=tf.keras.optimizers.Adadelta(learning_rate=1.0, rho=0.95)              \n",
    "classifier.compile(optimizer = opt, loss = 'categorical_crossentropy', metrics = ['accuracy'])"
   ]
  },
  {
   "cell_type": "code",
   "execution_count": 3,
   "id": "d48ebbbd",
   "metadata": {},
   "outputs": [
    {
     "name": "stdout",
     "output_type": "stream",
     "text": [
      "Model: \"sequential\"\n",
      "_________________________________________________________________\n",
      " Layer (type)                Output Shape              Param #   \n",
      "=================================================================\n",
      " conv2d (Conv2D)             (None, 28, 28, 64)        640       \n",
      "                                                                 \n",
      " conv2d_1 (Conv2D)           (None, 28, 28, 64)        36928     \n",
      "                                                                 \n",
      " max_pooling2d (MaxPooling2D  (None, 14, 14, 64)       0         \n",
      " )                                                               \n",
      "                                                                 \n",
      " dropout (Dropout)           (None, 14, 14, 64)        0         \n",
      "                                                                 \n",
      " conv2d_2 (Conv2D)           (None, 14, 14, 128)       73856     \n",
      "                                                                 \n",
      " conv2d_3 (Conv2D)           (None, 14, 14, 128)       147584    \n",
      "                                                                 \n",
      " max_pooling2d_1 (MaxPooling  (None, 7, 7, 128)        0         \n",
      " 2D)                                                             \n",
      "                                                                 \n",
      " dropout_1 (Dropout)         (None, 7, 7, 128)         0         \n",
      "                                                                 \n",
      " conv2d_4 (Conv2D)           (None, 7, 7, 256)         295168    \n",
      "                                                                 \n",
      " conv2d_5 (Conv2D)           (None, 7, 7, 256)         590080    \n",
      "                                                                 \n",
      " max_pooling2d_2 (MaxPooling  (None, 3, 3, 256)        0         \n",
      " 2D)                                                             \n",
      "                                                                 \n",
      " dropout_2 (Dropout)         (None, 3, 3, 256)         0         \n",
      "                                                                 \n",
      " flatten (Flatten)           (None, 2304)              0         \n",
      "                                                                 \n",
      " dense (Dense)               (None, 128)               295040    \n",
      "                                                                 \n",
      " dense_1 (Dense)             (None, 50)                6450      \n",
      "                                                                 \n",
      "=================================================================\n",
      "Total params: 1,445,746\n",
      "Trainable params: 1,445,746\n",
      "Non-trainable params: 0\n",
      "_________________________________________________________________\n"
     ]
    }
   ],
   "source": [
    "classifier.summary()"
   ]
  },
  {
   "cell_type": "code",
   "execution_count": 4,
   "id": "8a4ccda7",
   "metadata": {},
   "outputs": [
    {
     "name": "stdout",
     "output_type": "stream",
     "text": [
      "(None, 28, 28, 64)\n",
      "(None, 28, 28, 64)\n",
      "(None, 14, 14, 64)\n",
      "(None, 14, 14, 64)\n",
      "(None, 14, 14, 128)\n",
      "(None, 14, 14, 128)\n",
      "(None, 7, 7, 128)\n",
      "(None, 7, 7, 128)\n",
      "(None, 7, 7, 256)\n",
      "(None, 7, 7, 256)\n",
      "(None, 3, 3, 256)\n",
      "(None, 3, 3, 256)\n",
      "(None, 2304)\n",
      "(None, 128)\n",
      "(None, 50)\n"
     ]
    }
   ],
   "source": [
    "for layer in classifier.layers:\n",
    "    print(layer.output_shape)"
   ]
  },
  {
   "cell_type": "code",
   "execution_count": 10,
   "id": "b71055ee",
   "metadata": {},
   "outputs": [
    {
     "name": "stdout",
     "output_type": "stream",
     "text": [
      "Note: you may need to restart the kernel to use updated packages.Collecting split-folders\n",
      "  Downloading split_folders-0.5.1-py3-none-any.whl (8.4 kB)\n",
      "Installing collected packages: split-folders\n",
      "Successfully installed split-folders-0.5.1\n",
      "\n"
     ]
    },
    {
     "name": "stderr",
     "output_type": "stream",
     "text": [
      "WARNING: You are using pip version 22.0.4; however, version 22.3.1 is available.\n",
      "You should consider upgrading via the 'C:\\Users\\ASUS\\AppData\\Local\\Programs\\Python\\Python39\\python.exe -m pip install --upgrade pip' command.\n"
     ]
    }
   ],
   "source": [
    "pip install split-folders"
   ]
  },
  {
   "cell_type": "code",
   "execution_count": 11,
   "id": "301ad198",
   "metadata": {},
   "outputs": [],
   "source": [
    "import splitfolders"
   ]
  },
  {
   "cell_type": "code",
   "execution_count": 12,
   "id": "a0180be8",
   "metadata": {},
   "outputs": [],
   "source": [
    "splitfolders.ratio(\"DataSet/Train\", output=\"DataSet/main\", seed=1337, ratio=(.9, .1), group_prefix=None, move=False)"
   ]
  },
  {
   "cell_type": "code",
   "execution_count": 5,
   "id": "386604c0",
   "metadata": {},
   "outputs": [],
   "source": [
    "train_folder = \"Dataset/main/train\"\n",
    "val_folder = \"Dataset/main/val\"\n",
    "test_folder = \"Dataset/test\""
   ]
  },
  {
   "cell_type": "code",
   "execution_count": 6,
   "id": "28d14e0a",
   "metadata": {},
   "outputs": [
    {
     "name": "stdout",
     "output_type": "stream",
     "text": [
      "Found 10800 images belonging to 50 classes.\n",
      "Found 1200 images belonging to 50 classes.\n",
      "Found 3000 images belonging to 50 classes.\n"
     ]
    }
   ],
   "source": [
    "Image.LOAD_TRUNCATED_IMAGES = True\n",
    "\n",
    "\n",
    "train_datagen = ImageDataGenerator(shear_range = .2, rotation_range = 25)\n",
    "val_datagen = ImageDataGenerator()\n",
    "test_datagen = ImageDataGenerator()\n",
    "\n",
    "train_set = train_datagen.flow_from_directory(train_folder, target_size = (28, 28), \n",
    "                                                 batch_size = 32, class_mode = 'categorical',color_mode=\"grayscale\")\n",
    "val_set = val_datagen.flow_from_directory(val_folder, target_size = (28, 28), \n",
    "                                                 batch_size = 32, class_mode = 'categorical',color_mode=\"grayscale\")\n",
    "test_set = test_datagen.flow_from_directory(test_folder, target_size = (28, 28), \n",
    "                                                 batch_size = 32, class_mode = 'categorical',color_mode=\"grayscale\")"
   ]
  },
  {
   "cell_type": "code",
   "execution_count": 10,
   "id": "3f30468d",
   "metadata": {},
   "outputs": [
    {
     "data": {
      "text/plain": [
       "338"
      ]
     },
     "execution_count": 10,
     "metadata": {},
     "output_type": "execute_result"
    }
   ],
   "source": [
    "len(train_set)"
   ]
  },
  {
   "cell_type": "code",
   "execution_count": 12,
   "id": "13c5043d",
   "metadata": {},
   "outputs": [
    {
     "data": {
      "text/plain": [
       "38"
      ]
     },
     "execution_count": 12,
     "metadata": {},
     "output_type": "execute_result"
    }
   ],
   "source": [
    "len(val_set)"
   ]
  },
  {
   "cell_type": "code",
   "execution_count": 7,
   "id": "69737639",
   "metadata": {},
   "outputs": [],
   "source": [
    "reduce_lr = ReduceLROnPlateau(monitor='val_loss', factor=0.2,\n",
    "                              patience=5, min_lr=0.001)"
   ]
  },
  {
   "cell_type": "code",
   "execution_count": 9,
   "id": "ecc8c026",
   "metadata": {},
   "outputs": [
    {
     "name": "stdout",
     "output_type": "stream",
     "text": [
      "Epoch 1/10\n",
      "338/338 [==============================] - 236s 699ms/step - loss: 0.3919 - accuracy: 0.8799 - val_loss: 0.2035 - val_accuracy: 0.9492 - lr: 1.0000\n",
      "Epoch 2/10\n",
      "338/338 [==============================] - 247s 730ms/step - loss: 0.3784 - accuracy: 0.8831 - val_loss: 0.1914 - val_accuracy: 0.9450 - lr: 1.0000\n",
      "Epoch 3/10\n",
      "338/338 [==============================] - 211s 624ms/step - loss: 0.3294 - accuracy: 0.8963 - val_loss: 0.2008 - val_accuracy: 0.9483 - lr: 1.0000\n",
      "Epoch 4/10\n",
      "338/338 [==============================] - 211s 625ms/step - loss: 0.3175 - accuracy: 0.9016 - val_loss: 0.1714 - val_accuracy: 0.9483 - lr: 1.0000\n",
      "Epoch 5/10\n",
      "338/338 [==============================] - 213s 629ms/step - loss: 0.2952 - accuracy: 0.9054 - val_loss: 0.1834 - val_accuracy: 0.9517 - lr: 1.0000\n",
      "Epoch 6/10\n",
      "338/338 [==============================] - 204s 604ms/step - loss: 0.2732 - accuracy: 0.9135 - val_loss: 0.1857 - val_accuracy: 0.9525 - lr: 1.0000\n",
      "Epoch 7/10\n",
      "338/338 [==============================] - 213s 631ms/step - loss: 0.2587 - accuracy: 0.9189 - val_loss: 0.1617 - val_accuracy: 0.9500 - lr: 1.0000\n",
      "Epoch 8/10\n",
      "338/338 [==============================] - 208s 613ms/step - loss: 0.2434 - accuracy: 0.9241 - val_loss: 0.1522 - val_accuracy: 0.9558 - lr: 1.0000\n",
      "Epoch 9/10\n",
      "338/338 [==============================] - 208s 616ms/step - loss: 0.2520 - accuracy: 0.9245 - val_loss: 0.1668 - val_accuracy: 0.9533 - lr: 1.0000\n",
      "Epoch 10/10\n",
      "338/338 [==============================] - 203s 599ms/step - loss: 0.2416 - accuracy: 0.9218 - val_loss: 0.1472 - val_accuracy: 0.9533 - lr: 1.0000\n"
     ]
    },
    {
     "data": {
      "text/plain": [
       "<keras.callbacks.History at 0x2c4c7656670>"
      ]
     },
     "execution_count": 9,
     "metadata": {},
     "output_type": "execute_result"
    }
   ],
   "source": [
    "classifier.fit(train_set, steps_per_epoch = len(train_set), epochs = 10,\n",
    "                        validation_data = val_set, validation_steps = len(val_set), callbacks=[reduce_lr])"
   ]
  },
  {
   "cell_type": "code",
   "execution_count": 9,
   "id": "d02a13d6",
   "metadata": {},
   "outputs": [
    {
     "name": "stdout",
     "output_type": "stream",
     "text": [
      "3000/3000 [==============================] - 29s 9ms/step - loss: 1.8621 - accuracy: 0.4877\n"
     ]
    },
    {
     "data": {
      "text/plain": [
       "[1.8620712757110596, 0.48766666650772095]"
      ]
     },
     "execution_count": 9,
     "metadata": {},
     "output_type": "execute_result"
    }
   ],
   "source": [
    "classifier.evaluate(test_set)"
   ]
  },
  {
   "cell_type": "code",
   "execution_count": null,
   "id": "0843ce58",
   "metadata": {},
   "outputs": [],
   "source": []
  }
 ],
 "metadata": {
  "kernelspec": {
   "display_name": "Python 3 (ipykernel)",
   "language": "python",
   "name": "python3"
  },
  "language_info": {
   "codemirror_mode": {
    "name": "ipython",
    "version": 3
   },
   "file_extension": ".py",
   "mimetype": "text/x-python",
   "name": "python",
   "nbconvert_exporter": "python",
   "pygments_lexer": "ipython3",
   "version": "3.9.11"
  }
 },
 "nbformat": 4,
 "nbformat_minor": 5
}
