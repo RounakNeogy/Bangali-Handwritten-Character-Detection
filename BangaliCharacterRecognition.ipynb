{
 "cells": [
  {
   "cell_type": "code",
   "execution_count": 47,
   "id": "87aa97a9",
   "metadata": {},
   "outputs": [],
   "source": [
    "from keras.models import Sequential\n",
    "from keras.layers import Conv2D, MaxPooling2D, Flatten, Dense, Dropout\n",
    "from keras.preprocessing.image import ImageDataGenerator\n",
    "from PIL import Image\n",
    "import tensorflow as tf"
   ]
  },
  {
   "cell_type": "code",
   "execution_count": 62,
   "id": "666202c8",
   "metadata": {},
   "outputs": [],
   "source": [
    "classifier = Sequential()\n",
    "\n",
    "classifier.add(Conv2D(filters = 64, kernel_size = (3, 3), padding = \"same\", activation = 'relu', input_shape = (28, 28,1)))\n",
    "classifier.add(Conv2D(filters = 64, kernel_size = (3, 3), padding = \"same\", activation = 'relu'))\n",
    "classifier.add(MaxPooling2D(pool_size = (2, 2)))\n",
    "classifier.add(Dropout(0.5))\n",
    "               \n",
    "classifier.add(Conv2D(filters = 128, kernel_size = (3, 3), padding = \"same\", activation = 'relu'))\n",
    "classifier.add(Conv2D(filters = 128, kernel_size = (3, 3), padding = \"same\", activation = 'relu'))\n",
    "classifier.add(MaxPooling2D(pool_size = (2, 2)))\n",
    "classifier.add(Dropout(0.5))\n",
    "               \n",
    "classifier.add(Conv2D(filters = 256, kernel_size = (3, 3), padding = \"same\", activation = 'relu'))\n",
    "classifier.add(Conv2D(filters = 256, kernel_size = (3, 3), padding = \"same\", activation = 'relu'))\n",
    "classifier.add(MaxPooling2D(pool_size = (2, 2)))\n",
    "classifier.add(Dropout(0.5))\n",
    "\n",
    "\n",
    "classifier.add(Flatten())\n",
    "               \n",
    "classifier.add(Dense(units = 128, activation = 'relu'))\n",
    "classifier.add(Dense(units = 50, activation = 'softmax'))\n",
    "\n",
    "opt=tf.keras.optimizers.Adadelta(learning_rate=1.0, rho=0.95)              \n",
    "classifier.compile(optimizer = opt, loss = 'categorical_crossentropy', metrics = ['accuracy'])"
   ]
  },
  {
   "cell_type": "code",
   "execution_count": 63,
   "id": "8a4ccda7",
   "metadata": {},
   "outputs": [
    {
     "name": "stdout",
     "output_type": "stream",
     "text": [
      "(None, 28, 28, 64)\n",
      "(None, 28, 28, 64)\n",
      "(None, 14, 14, 64)\n",
      "(None, 14, 14, 64)\n",
      "(None, 14, 14, 128)\n",
      "(None, 14, 14, 128)\n",
      "(None, 7, 7, 128)\n",
      "(None, 7, 7, 128)\n",
      "(None, 7, 7, 256)\n",
      "(None, 7, 7, 256)\n",
      "(None, 3, 3, 256)\n",
      "(None, 3, 3, 256)\n",
      "(None, 2304)\n",
      "(None, 128)\n",
      "(None, 50)\n"
     ]
    }
   ],
   "source": [
    "for layer in classifier.layers:\n",
    "    print(layer.output_shape)"
   ]
  },
  {
   "cell_type": "code",
   "execution_count": 10,
   "id": "b71055ee",
   "metadata": {},
   "outputs": [
    {
     "name": "stdout",
     "output_type": "stream",
     "text": [
      "Note: you may need to restart the kernel to use updated packages.Collecting split-folders\n",
      "  Downloading split_folders-0.5.1-py3-none-any.whl (8.4 kB)\n",
      "Installing collected packages: split-folders\n",
      "Successfully installed split-folders-0.5.1\n",
      "\n"
     ]
    },
    {
     "name": "stderr",
     "output_type": "stream",
     "text": [
      "WARNING: You are using pip version 22.0.4; however, version 22.3.1 is available.\n",
      "You should consider upgrading via the 'C:\\Users\\ASUS\\AppData\\Local\\Programs\\Python\\Python39\\python.exe -m pip install --upgrade pip' command.\n"
     ]
    }
   ],
   "source": [
    "pip install split-folders"
   ]
  },
  {
   "cell_type": "code",
   "execution_count": 11,
   "id": "301ad198",
   "metadata": {},
   "outputs": [],
   "source": [
    "import splitfolders"
   ]
  },
  {
   "cell_type": "code",
   "execution_count": 12,
   "id": "a0180be8",
   "metadata": {},
   "outputs": [],
   "source": [
    "splitfolders.ratio(\"DataSet/Train\", output=\"DataSet/main\", seed=1337, ratio=(.9, .1), group_prefix=None, move=False)"
   ]
  },
  {
   "cell_type": "code",
   "execution_count": 64,
   "id": "386604c0",
   "metadata": {},
   "outputs": [],
   "source": [
    "train_folder = \"Dataset/main/train\"\n",
    "val_folder = \"Dataset/main/val\"\n",
    "test_folder = \"Dataset/test\""
   ]
  },
  {
   "cell_type": "code",
   "execution_count": 65,
   "id": "28d14e0a",
   "metadata": {},
   "outputs": [
    {
     "name": "stdout",
     "output_type": "stream",
     "text": [
      "Found 10800 images belonging to 50 classes.\n",
      "Found 1200 images belonging to 50 classes.\n",
      "Found 3000 images belonging to 50 classes.\n"
     ]
    }
   ],
   "source": [
    "Image.LOAD_TRUNCATED_IMAGES = True\n",
    "\n",
    "\n",
    "train_datagen = ImageDataGenerator(shear_range = .2, rotation_range = 25)\n",
    "val_datagen = ImageDataGenerator()\n",
    "test_datagen = ImageDataGenerator()\n",
    "\n",
    "train_set = train_datagen.flow_from_directory(train_folder, target_size = (28, 28), \n",
    "                                                 batch_size = 1, class_mode = 'categorical',color_mode=\"grayscale\")\n",
    "val_set = val_datagen.flow_from_directory(val_folder, target_size = (28, 28), \n",
    "                                                 batch_size = 1, class_mode = 'categorical',color_mode=\"grayscale\")\n",
    "test_set = test_datagen.flow_from_directory(test_folder, target_size = (28, 28), \n",
    "                                                 batch_size = 1, class_mode = 'categorical',color_mode=\"grayscale\")"
   ]
  },
  {
   "cell_type": "code",
   "execution_count": 52,
   "id": "6449e4db",
   "metadata": {},
   "outputs": [
    {
     "name": "stdout",
     "output_type": "stream",
     "text": [
      "Model: \"sequential_8\"\n",
      "_________________________________________________________________\n",
      " Layer (type)                Output Shape              Param #   \n",
      "=================================================================\n",
      " conv2d_44 (Conv2D)          (None, 28, 28, 64)        640       \n",
      "                                                                 \n",
      " conv2d_45 (Conv2D)          (None, 28, 28, 64)        36928     \n",
      "                                                                 \n",
      " max_pooling2d_22 (MaxPoolin  (None, 14, 14, 64)       0         \n",
      " g2D)                                                            \n",
      "                                                                 \n",
      " dropout_21 (Dropout)        (None, 14, 14, 64)        0         \n",
      "                                                                 \n",
      " conv2d_46 (Conv2D)          (None, 14, 14, 128)       73856     \n",
      "                                                                 \n",
      " conv2d_47 (Conv2D)          (None, 14, 14, 128)       147584    \n",
      "                                                                 \n",
      " max_pooling2d_23 (MaxPoolin  (None, 7, 7, 128)        0         \n",
      " g2D)                                                            \n",
      "                                                                 \n",
      " dropout_22 (Dropout)        (None, 7, 7, 128)         0         \n",
      "                                                                 \n",
      " conv2d_48 (Conv2D)          (None, 7, 7, 256)         295168    \n",
      "                                                                 \n",
      " conv2d_49 (Conv2D)          (None, 7, 7, 256)         590080    \n",
      "                                                                 \n",
      " max_pooling2d_24 (MaxPoolin  (None, 3, 3, 256)        0         \n",
      " g2D)                                                            \n",
      "                                                                 \n",
      " dropout_23 (Dropout)        (None, 3, 3, 256)         0         \n",
      "                                                                 \n",
      " dense_14 (Dense)            (None, 3, 3, 128)         32896     \n",
      "                                                                 \n",
      " dense_15 (Dense)            (None, 3, 3, 50)          6450      \n",
      "                                                                 \n",
      "=================================================================\n",
      "Total params: 1,183,602\n",
      "Trainable params: 1,183,602\n",
      "Non-trainable params: 0\n",
      "_________________________________________________________________\n"
     ]
    }
   ],
   "source": [
    "classifier.summary()"
   ]
  },
  {
   "cell_type": "code",
   "execution_count": 66,
   "id": "ecc8c026",
   "metadata": {},
   "outputs": [
    {
     "name": "stdout",
     "output_type": "stream",
     "text": [
      "Epoch 1/10\n",
      "10800/10800 [==============================] - 446s 41ms/step - loss: 3.6813 - accuracy: 0.0710 - val_loss: 2.8765 - val_accuracy: 0.2242\n",
      "Epoch 2/10\n",
      "10800/10800 [==============================] - 371s 34ms/step - loss: 2.6668 - accuracy: 0.2669 - val_loss: 1.7326 - val_accuracy: 0.4825\n",
      "Epoch 3/10\n",
      "10800/10800 [==============================] - 468s 43ms/step - loss: 2.1512 - accuracy: 0.3919 - val_loss: 1.3057 - val_accuracy: 0.6083\n",
      "Epoch 4/10\n",
      "10800/10800 [==============================] - 443s 41ms/step - loss: 1.8537 - accuracy: 0.4836 - val_loss: 1.1248 - val_accuracy: 0.6642\n",
      "Epoch 5/10\n",
      "10800/10800 [==============================] - 399s 37ms/step - loss: 1.7579 - accuracy: 0.5210 - val_loss: 1.2421 - val_accuracy: 0.6375\n",
      "Epoch 6/10\n",
      "10800/10800 [==============================] - 351s 33ms/step - loss: 1.7979 - accuracy: 0.5207 - val_loss: 1.0771 - val_accuracy: 0.7092\n",
      "Epoch 7/10\n",
      "10800/10800 [==============================] - 400s 37ms/step - loss: 1.8623 - accuracy: 0.5181 - val_loss: 1.1152 - val_accuracy: 0.6767\n",
      "Epoch 8/10\n",
      "10800/10800 [==============================] - 396s 37ms/step - loss: 1.9238 - accuracy: 0.5113 - val_loss: 1.2125 - val_accuracy: 0.6775\n",
      "Epoch 9/10\n",
      "10800/10800 [==============================] - 352s 33ms/step - loss: 1.9982 - accuracy: 0.4897 - val_loss: 2.0924 - val_accuracy: 0.3892\n",
      "Epoch 10/10\n",
      "10800/10800 [==============================] - 345s 32ms/step - loss: 1.9838 - accuracy: 0.5066 - val_loss: 1.1892 - val_accuracy: 0.6583\n"
     ]
    },
    {
     "data": {
      "text/plain": [
       "<keras.callbacks.History at 0x1c31730f850>"
      ]
     },
     "execution_count": 66,
     "metadata": {},
     "output_type": "execute_result"
    }
   ],
   "source": [
    "classifier.fit(train_set, steps_per_epoch = 10800, epochs = 10,\n",
    "                        validation_data = val_set, validation_steps = 1200)"
   ]
  },
  {
   "cell_type": "code",
   "execution_count": 67,
   "id": "d02a13d6",
   "metadata": {},
   "outputs": [
    {
     "name": "stdout",
     "output_type": "stream",
     "text": [
      "3000/3000 [==============================] - 27s 9ms/step - loss: 1.2478 - accuracy: 0.6523\n"
     ]
    },
    {
     "data": {
      "text/plain": [
       "[1.2477961778640747, 0.6523333191871643]"
      ]
     },
     "execution_count": 67,
     "metadata": {},
     "output_type": "execute_result"
    }
   ],
   "source": [
    "classifier.evaluate(test_set)"
   ]
  },
  {
   "cell_type": "code",
   "execution_count": null,
   "id": "0843ce58",
   "metadata": {},
   "outputs": [],
   "source": []
  }
 ],
 "metadata": {
  "kernelspec": {
   "display_name": "Python 3 (ipykernel)",
   "language": "python",
   "name": "python3"
  },
  "language_info": {
   "codemirror_mode": {
    "name": "ipython",
    "version": 3
   },
   "file_extension": ".py",
   "mimetype": "text/x-python",
   "name": "python",
   "nbconvert_exporter": "python",
   "pygments_lexer": "ipython3",
   "version": "3.9.11"
  }
 },
 "nbformat": 4,
 "nbformat_minor": 5
}
