{
  "nbformat": 4,
  "nbformat_minor": 0,
  "metadata": {
    "colab": {
      "provenance": [],
      "authorship_tag": "ABX9TyPjfsAC3Pp3WcAXmjLxw3oL",
      "include_colab_link": true
    },
    "kernelspec": {
      "name": "python3",
      "display_name": "Python 3"
    },
    "language_info": {
      "name": "python"
    },
    "accelerator": "GPU",
    "gpuClass": "standard"
  },
  "cells": [
    {
      "cell_type": "markdown",
      "metadata": {
        "id": "view-in-github",
        "colab_type": "text"
      },
      "source": [
        "<a href=\"https://colab.research.google.com/github/RounakNeogy/BanglaCharacterDetectionPaper/blob/main/CNN_RegionalHandwrittenCharacters_latest.ipynb\" target=\"_parent\"><img src=\"https://colab.research.google.com/assets/colab-badge.svg\" alt=\"Open In Colab\"/></a>"
      ]
    },
    {
      "cell_type": "code",
      "execution_count": null,
      "metadata": {
        "colab": {
          "base_uri": "https://localhost:8080/"
        },
        "id": "Zsbqyk4P0IzV",
        "outputId": "f09acf11-7e30-43a6-f2cb-0f8dca0ee624"
      },
      "outputs": [
        {
          "output_type": "stream",
          "name": "stdout",
          "text": [
            "Mounted at /content/drive\n"
          ]
        }
      ],
      "source": [
        "from google.colab import drive\n",
        "drive.mount('/content/drive')"
      ]
    },
    {
      "cell_type": "code",
      "source": [
        "!unzip drive/MyDrive/Dataset.zip> /dev/null"
      ],
      "metadata": {
        "id": "I_L9cX_d0V_t"
      },
      "execution_count": null,
      "outputs": []
    },
    {
      "cell_type": "code",
      "source": [
        "from keras.models import Sequential\n",
        "from keras.layers import Conv2D, MaxPooling2D, Flatten, Dense, Dropout\n",
        "from keras.preprocessing.image import ImageDataGenerator\n",
        "from PIL import Image\n",
        "import tensorflow as tf\n",
        "from keras.callbacks import ReduceLROnPlateau"
      ],
      "metadata": {
        "id": "4cWcmzM31Khh"
      },
      "execution_count": null,
      "outputs": []
    },
    {
      "cell_type": "code",
      "source": [
        "classifier = Sequential()\n",
        "\n",
        "classifier.add(Conv2D(filters = 64, kernel_size = (3, 3), padding = \"same\", activation = 'relu', input_shape = (28, 28,1)))\n",
        "classifier.add(Conv2D(filters = 64, kernel_size = (3, 3), padding = \"same\", activation = 'relu'))\n",
        "classifier.add(MaxPooling2D(pool_size = (2, 2)))\n",
        "classifier.add(Dropout(0.5))\n",
        "               \n",
        "classifier.add(Conv2D(filters = 128, kernel_size = (3, 3), padding = \"same\", activation = 'relu'))\n",
        "classifier.add(Conv2D(filters = 128, kernel_size = (3, 3), padding = \"same\", activation = 'relu'))\n",
        "classifier.add(MaxPooling2D(pool_size = (2, 2)))\n",
        "classifier.add(Dropout(0.5))\n",
        "               \n",
        "classifier.add(Conv2D(filters = 256, kernel_size = (3, 3), padding = \"same\", activation = 'relu'))\n",
        "classifier.add(Conv2D(filters = 256, kernel_size = (3, 3), padding = \"same\", activation = 'relu'))\n",
        "classifier.add(MaxPooling2D(pool_size = (2, 2)))\n",
        "classifier.add(Dropout(0.5))\n",
        "\n",
        "\n",
        "classifier.add(Flatten())\n",
        "               \n",
        "classifier.add(Dense(units = 128, activation = 'relu'))\n",
        "classifier.add(Dense(units = 50, activation = 'softmax'))\n",
        "\n",
        "opt=tf.keras.optimizers.Adadelta(learning_rate=1.0, rho=0.95)              \n",
        "classifier.compile(optimizer = opt, loss = 'categorical_crossentropy', metrics = ['accuracy'])"
      ],
      "metadata": {
        "id": "X_zCM2N-1qt_"
      },
      "execution_count": null,
      "outputs": []
    },
    {
      "cell_type": "code",
      "source": [
        "classifier.summary()"
      ],
      "metadata": {
        "colab": {
          "base_uri": "https://localhost:8080/"
        },
        "id": "-Vvj-sas1yVy",
        "outputId": "ee41b85d-1890-445f-f96e-a450c693f066"
      },
      "execution_count": null,
      "outputs": [
        {
          "output_type": "stream",
          "name": "stdout",
          "text": [
            "Model: \"sequential\"\n",
            "_________________________________________________________________\n",
            " Layer (type)                Output Shape              Param #   \n",
            "=================================================================\n",
            " conv2d (Conv2D)             (None, 28, 28, 64)        640       \n",
            "                                                                 \n",
            " conv2d_1 (Conv2D)           (None, 28, 28, 64)        36928     \n",
            "                                                                 \n",
            " max_pooling2d (MaxPooling2D  (None, 14, 14, 64)       0         \n",
            " )                                                               \n",
            "                                                                 \n",
            " dropout (Dropout)           (None, 14, 14, 64)        0         \n",
            "                                                                 \n",
            " conv2d_2 (Conv2D)           (None, 14, 14, 128)       73856     \n",
            "                                                                 \n",
            " conv2d_3 (Conv2D)           (None, 14, 14, 128)       147584    \n",
            "                                                                 \n",
            " max_pooling2d_1 (MaxPooling  (None, 7, 7, 128)        0         \n",
            " 2D)                                                             \n",
            "                                                                 \n",
            " dropout_1 (Dropout)         (None, 7, 7, 128)         0         \n",
            "                                                                 \n",
            " conv2d_4 (Conv2D)           (None, 7, 7, 256)         295168    \n",
            "                                                                 \n",
            " conv2d_5 (Conv2D)           (None, 7, 7, 256)         590080    \n",
            "                                                                 \n",
            " max_pooling2d_2 (MaxPooling  (None, 3, 3, 256)        0         \n",
            " 2D)                                                             \n",
            "                                                                 \n",
            " dropout_2 (Dropout)         (None, 3, 3, 256)         0         \n",
            "                                                                 \n",
            " flatten (Flatten)           (None, 2304)              0         \n",
            "                                                                 \n",
            " dense (Dense)               (None, 128)               295040    \n",
            "                                                                 \n",
            " dense_1 (Dense)             (None, 50)                6450      \n",
            "                                                                 \n",
            "=================================================================\n",
            "Total params: 1,445,746\n",
            "Trainable params: 1,445,746\n",
            "Non-trainable params: 0\n",
            "_________________________________________________________________\n"
          ]
        }
      ]
    },
    {
      "cell_type": "code",
      "source": [
        "train_folder = \"Dataset/main/train\"\n",
        "val_folder = \"Dataset/main/val\"\n",
        "test_folder = \"Dataset/Test\""
      ],
      "metadata": {
        "id": "nhsADrc411AV"
      },
      "execution_count": null,
      "outputs": []
    },
    {
      "cell_type": "code",
      "source": [
        "Image.LOAD_TRUNCATED_IMAGES = True\n",
        "\n",
        "\n",
        "train_datagen = ImageDataGenerator(shear_range = .2, rotation_range = 25)\n",
        "val_datagen = ImageDataGenerator()\n",
        "test_datagen = ImageDataGenerator()\n",
        "\n",
        "train_set = train_datagen.flow_from_directory(train_folder, target_size = (28, 28), \n",
        "                                                 batch_size = 32, class_mode = 'categorical',color_mode=\"grayscale\")\n",
        "val_set = val_datagen.flow_from_directory(val_folder, target_size = (28, 28), \n",
        "                                                 batch_size = 32, class_mode = 'categorical',color_mode=\"grayscale\")\n",
        "test_set = test_datagen.flow_from_directory(test_folder, target_size = (28, 28), \n",
        "                                                 batch_size = 32, class_mode = 'categorical',color_mode=\"grayscale\")"
      ],
      "metadata": {
        "colab": {
          "base_uri": "https://localhost:8080/"
        },
        "id": "BbvB70Ja2Ctg",
        "outputId": "82f2a2a0-0388-4933-f808-d436aac6fc9f"
      },
      "execution_count": null,
      "outputs": [
        {
          "output_type": "stream",
          "name": "stdout",
          "text": [
            "Found 10800 images belonging to 50 classes.\n",
            "Found 1200 images belonging to 50 classes.\n",
            "Found 3000 images belonging to 50 classes.\n"
          ]
        }
      ]
    },
    {
      "cell_type": "code",
      "source": [
        "reduce_lr = ReduceLROnPlateau(monitor='val_loss', factor=0.2,\n",
        "                              patience=5, min_lr=0.001)"
      ],
      "metadata": {
        "id": "tG-T5Upi2JCi"
      },
      "execution_count": null,
      "outputs": []
    },
    {
      "cell_type": "markdown",
      "source": [],
      "metadata": {
        "id": "7W2icovtLHCU"
      }
    },
    {
      "cell_type": "code",
      "source": [
        "classifier.fit(train_set, steps_per_epoch = len(train_set), epochs = 100,\n",
        "                        validation_data = val_set, validation_steps = len(val_set), callbacks=[reduce_lr])"
      ],
      "metadata": {
        "colab": {
          "base_uri": "https://localhost:8080/"
        },
        "id": "dkiQqHX32MY6",
        "outputId": "95c7ec80-d644-4b05-fdb5-cc9953e16d89"
      },
      "execution_count": null,
      "outputs": [
        {
          "output_type": "stream",
          "name": "stdout",
          "text": [
            "Epoch 1/100\n",
            "338/338 [==============================] - 8s 25ms/step - loss: 0.3889 - accuracy: 0.8804 - val_loss: 0.2252 - val_accuracy: 0.9325 - lr: 1.0000\n",
            "Epoch 2/100\n",
            "338/338 [==============================] - 8s 25ms/step - loss: 0.3611 - accuracy: 0.8896 - val_loss: 0.2289 - val_accuracy: 0.9308 - lr: 1.0000\n",
            "Epoch 3/100\n",
            "338/338 [==============================] - 8s 25ms/step - loss: 0.3286 - accuracy: 0.9006 - val_loss: 0.2223 - val_accuracy: 0.9442 - lr: 1.0000\n",
            "Epoch 4/100\n",
            "338/338 [==============================] - 9s 25ms/step - loss: 0.2971 - accuracy: 0.9073 - val_loss: 0.1878 - val_accuracy: 0.9425 - lr: 1.0000\n",
            "Epoch 5/100\n",
            "338/338 [==============================] - 9s 25ms/step - loss: 0.2871 - accuracy: 0.9110 - val_loss: 0.2224 - val_accuracy: 0.9383 - lr: 1.0000\n",
            "Epoch 6/100\n",
            "338/338 [==============================] - 9s 25ms/step - loss: 0.2689 - accuracy: 0.9169 - val_loss: 0.2105 - val_accuracy: 0.9492 - lr: 1.0000\n",
            "Epoch 7/100\n",
            "338/338 [==============================] - 9s 25ms/step - loss: 0.2440 - accuracy: 0.9236 - val_loss: 0.2064 - val_accuracy: 0.9517 - lr: 1.0000\n",
            "Epoch 8/100\n",
            "338/338 [==============================] - 9s 26ms/step - loss: 0.2407 - accuracy: 0.9249 - val_loss: 0.1881 - val_accuracy: 0.9467 - lr: 1.0000\n",
            "Epoch 9/100\n",
            "338/338 [==============================] - 9s 25ms/step - loss: 0.2223 - accuracy: 0.9320 - val_loss: 0.1995 - val_accuracy: 0.9483 - lr: 1.0000\n",
            "Epoch 10/100\n",
            "338/338 [==============================] - 9s 25ms/step - loss: 0.1655 - accuracy: 0.9478 - val_loss: 0.1688 - val_accuracy: 0.9575 - lr: 0.2000\n",
            "Epoch 11/100\n",
            "338/338 [==============================] - 9s 25ms/step - loss: 0.1462 - accuracy: 0.9510 - val_loss: 0.1667 - val_accuracy: 0.9575 - lr: 0.2000\n",
            "Epoch 12/100\n",
            "338/338 [==============================] - 9s 25ms/step - loss: 0.1409 - accuracy: 0.9532 - val_loss: 0.1651 - val_accuracy: 0.9583 - lr: 0.2000\n",
            "Epoch 13/100\n",
            "338/338 [==============================] - 9s 25ms/step - loss: 0.1279 - accuracy: 0.9583 - val_loss: 0.1646 - val_accuracy: 0.9600 - lr: 0.2000\n",
            "Epoch 14/100\n",
            "338/338 [==============================] - 9s 25ms/step - loss: 0.1215 - accuracy: 0.9587 - val_loss: 0.1638 - val_accuracy: 0.9600 - lr: 0.2000\n",
            "Epoch 15/100\n",
            "338/338 [==============================] - 8s 25ms/step - loss: 0.1213 - accuracy: 0.9588 - val_loss: 0.1725 - val_accuracy: 0.9592 - lr: 0.2000\n",
            "Epoch 16/100\n",
            "338/338 [==============================] - 9s 25ms/step - loss: 0.1115 - accuracy: 0.9623 - val_loss: 0.1566 - val_accuracy: 0.9617 - lr: 0.2000\n",
            "Epoch 17/100\n",
            "338/338 [==============================] - 9s 25ms/step - loss: 0.1094 - accuracy: 0.9647 - val_loss: 0.1530 - val_accuracy: 0.9575 - lr: 0.2000\n",
            "Epoch 18/100\n",
            "338/338 [==============================] - 9s 25ms/step - loss: 0.1117 - accuracy: 0.9644 - val_loss: 0.1496 - val_accuracy: 0.9617 - lr: 0.2000\n",
            "Epoch 19/100\n",
            "338/338 [==============================] - 9s 25ms/step - loss: 0.1107 - accuracy: 0.9655 - val_loss: 0.1491 - val_accuracy: 0.9625 - lr: 0.2000\n",
            "Epoch 20/100\n",
            "338/338 [==============================] - 8s 25ms/step - loss: 0.1013 - accuracy: 0.9684 - val_loss: 0.1604 - val_accuracy: 0.9642 - lr: 0.2000\n",
            "Epoch 21/100\n",
            "338/338 [==============================] - 8s 25ms/step - loss: 0.1019 - accuracy: 0.9678 - val_loss: 0.1571 - val_accuracy: 0.9600 - lr: 0.2000\n",
            "Epoch 22/100\n",
            "338/338 [==============================] - 9s 25ms/step - loss: 0.0959 - accuracy: 0.9694 - val_loss: 0.1548 - val_accuracy: 0.9592 - lr: 0.2000\n",
            "Epoch 23/100\n",
            "338/338 [==============================] - 8s 25ms/step - loss: 0.0936 - accuracy: 0.9692 - val_loss: 0.1479 - val_accuracy: 0.9692 - lr: 0.2000\n",
            "Epoch 24/100\n",
            "338/338 [==============================] - 9s 25ms/step - loss: 0.0918 - accuracy: 0.9688 - val_loss: 0.1536 - val_accuracy: 0.9642 - lr: 0.2000\n",
            "Epoch 25/100\n",
            "338/338 [==============================] - 9s 25ms/step - loss: 0.0890 - accuracy: 0.9711 - val_loss: 0.1670 - val_accuracy: 0.9650 - lr: 0.2000\n",
            "Epoch 26/100\n",
            "338/338 [==============================] - 8s 25ms/step - loss: 0.0909 - accuracy: 0.9719 - val_loss: 0.1633 - val_accuracy: 0.9642 - lr: 0.2000\n",
            "Epoch 27/100\n",
            "338/338 [==============================] - 8s 25ms/step - loss: 0.0878 - accuracy: 0.9699 - val_loss: 0.1484 - val_accuracy: 0.9642 - lr: 0.2000\n",
            "Epoch 28/100\n",
            "338/338 [==============================] - 8s 25ms/step - loss: 0.0843 - accuracy: 0.9742 - val_loss: 0.1458 - val_accuracy: 0.9642 - lr: 0.2000\n",
            "Epoch 29/100\n",
            "338/338 [==============================] - 9s 25ms/step - loss: 0.0869 - accuracy: 0.9704 - val_loss: 0.1519 - val_accuracy: 0.9633 - lr: 0.2000\n",
            "Epoch 30/100\n",
            "338/338 [==============================] - 8s 25ms/step - loss: 0.0859 - accuracy: 0.9724 - val_loss: 0.1450 - val_accuracy: 0.9650 - lr: 0.2000\n",
            "Epoch 31/100\n",
            "338/338 [==============================] - 8s 25ms/step - loss: 0.0773 - accuracy: 0.9733 - val_loss: 0.1582 - val_accuracy: 0.9650 - lr: 0.2000\n",
            "Epoch 32/100\n",
            "338/338 [==============================] - 8s 25ms/step - loss: 0.0752 - accuracy: 0.9751 - val_loss: 0.1707 - val_accuracy: 0.9642 - lr: 0.2000\n",
            "Epoch 33/100\n",
            "338/338 [==============================] - 8s 25ms/step - loss: 0.0855 - accuracy: 0.9707 - val_loss: 0.1520 - val_accuracy: 0.9617 - lr: 0.2000\n",
            "Epoch 34/100\n",
            "338/338 [==============================] - 8s 25ms/step - loss: 0.0751 - accuracy: 0.9767 - val_loss: 0.1597 - val_accuracy: 0.9650 - lr: 0.2000\n",
            "Epoch 35/100\n",
            "338/338 [==============================] - 8s 25ms/step - loss: 0.0750 - accuracy: 0.9752 - val_loss: 0.1500 - val_accuracy: 0.9650 - lr: 0.2000\n",
            "Epoch 36/100\n",
            "338/338 [==============================] - 8s 25ms/step - loss: 0.0747 - accuracy: 0.9751 - val_loss: 0.1481 - val_accuracy: 0.9650 - lr: 0.0400\n",
            "Epoch 37/100\n",
            "338/338 [==============================] - 8s 25ms/step - loss: 0.0671 - accuracy: 0.9781 - val_loss: 0.1518 - val_accuracy: 0.9658 - lr: 0.0400\n",
            "Epoch 38/100\n",
            "338/338 [==============================] - 8s 25ms/step - loss: 0.0752 - accuracy: 0.9756 - val_loss: 0.1516 - val_accuracy: 0.9642 - lr: 0.0400\n",
            "Epoch 39/100\n",
            "338/338 [==============================] - 8s 25ms/step - loss: 0.0608 - accuracy: 0.9793 - val_loss: 0.1512 - val_accuracy: 0.9692 - lr: 0.0400\n",
            "Epoch 40/100\n",
            "338/338 [==============================] - 8s 25ms/step - loss: 0.0701 - accuracy: 0.9788 - val_loss: 0.1531 - val_accuracy: 0.9667 - lr: 0.0400\n",
            "Epoch 41/100\n",
            "338/338 [==============================] - 8s 25ms/step - loss: 0.0621 - accuracy: 0.9790 - val_loss: 0.1540 - val_accuracy: 0.9658 - lr: 0.0080\n",
            "Epoch 42/100\n",
            "338/338 [==============================] - 8s 25ms/step - loss: 0.0649 - accuracy: 0.9788 - val_loss: 0.1563 - val_accuracy: 0.9650 - lr: 0.0080\n",
            "Epoch 43/100\n",
            "338/338 [==============================] - 8s 25ms/step - loss: 0.0665 - accuracy: 0.9787 - val_loss: 0.1561 - val_accuracy: 0.9650 - lr: 0.0080\n",
            "Epoch 44/100\n",
            "338/338 [==============================] - 8s 25ms/step - loss: 0.0648 - accuracy: 0.9781 - val_loss: 0.1568 - val_accuracy: 0.9658 - lr: 0.0080\n",
            "Epoch 45/100\n",
            "338/338 [==============================] - 8s 25ms/step - loss: 0.0650 - accuracy: 0.9781 - val_loss: 0.1568 - val_accuracy: 0.9658 - lr: 0.0080\n",
            "Epoch 46/100\n",
            "338/338 [==============================] - 8s 25ms/step - loss: 0.0648 - accuracy: 0.9794 - val_loss: 0.1569 - val_accuracy: 0.9658 - lr: 0.0016\n",
            "Epoch 47/100\n",
            "338/338 [==============================] - 8s 25ms/step - loss: 0.0677 - accuracy: 0.9786 - val_loss: 0.1569 - val_accuracy: 0.9658 - lr: 0.0016\n",
            "Epoch 48/100\n",
            "338/338 [==============================] - 8s 25ms/step - loss: 0.0584 - accuracy: 0.9794 - val_loss: 0.1570 - val_accuracy: 0.9658 - lr: 0.0016\n",
            "Epoch 49/100\n",
            "338/338 [==============================] - 8s 25ms/step - loss: 0.0644 - accuracy: 0.9788 - val_loss: 0.1569 - val_accuracy: 0.9650 - lr: 0.0016\n",
            "Epoch 50/100\n",
            "338/338 [==============================] - 8s 25ms/step - loss: 0.0609 - accuracy: 0.9792 - val_loss: 0.1569 - val_accuracy: 0.9650 - lr: 0.0016\n",
            "Epoch 51/100\n",
            "338/338 [==============================] - 8s 25ms/step - loss: 0.0632 - accuracy: 0.9787 - val_loss: 0.1569 - val_accuracy: 0.9658 - lr: 0.0010\n",
            "Epoch 52/100\n",
            "338/338 [==============================] - 8s 25ms/step - loss: 0.0658 - accuracy: 0.9776 - val_loss: 0.1567 - val_accuracy: 0.9658 - lr: 0.0010\n",
            "Epoch 53/100\n",
            "338/338 [==============================] - 8s 25ms/step - loss: 0.0668 - accuracy: 0.9778 - val_loss: 0.1568 - val_accuracy: 0.9658 - lr: 0.0010\n",
            "Epoch 54/100\n",
            "338/338 [==============================] - 8s 25ms/step - loss: 0.0650 - accuracy: 0.9795 - val_loss: 0.1569 - val_accuracy: 0.9650 - lr: 0.0010\n",
            "Epoch 55/100\n",
            "338/338 [==============================] - 8s 25ms/step - loss: 0.0611 - accuracy: 0.9803 - val_loss: 0.1568 - val_accuracy: 0.9658 - lr: 0.0010\n",
            "Epoch 56/100\n",
            "338/338 [==============================] - 9s 25ms/step - loss: 0.0692 - accuracy: 0.9781 - val_loss: 0.1569 - val_accuracy: 0.9650 - lr: 0.0010\n",
            "Epoch 57/100\n",
            "338/338 [==============================] - 9s 25ms/step - loss: 0.0643 - accuracy: 0.9786 - val_loss: 0.1569 - val_accuracy: 0.9650 - lr: 0.0010\n",
            "Epoch 58/100\n",
            "338/338 [==============================] - 8s 25ms/step - loss: 0.0672 - accuracy: 0.9774 - val_loss: 0.1570 - val_accuracy: 0.9650 - lr: 0.0010\n",
            "Epoch 59/100\n",
            "338/338 [==============================] - 8s 25ms/step - loss: 0.0604 - accuracy: 0.9803 - val_loss: 0.1572 - val_accuracy: 0.9642 - lr: 0.0010\n",
            "Epoch 60/100\n",
            "338/338 [==============================] - 8s 25ms/step - loss: 0.0621 - accuracy: 0.9793 - val_loss: 0.1572 - val_accuracy: 0.9650 - lr: 0.0010\n",
            "Epoch 61/100\n",
            "338/338 [==============================] - 8s 25ms/step - loss: 0.0623 - accuracy: 0.9780 - val_loss: 0.1570 - val_accuracy: 0.9650 - lr: 0.0010\n",
            "Epoch 62/100\n",
            "338/338 [==============================] - 9s 25ms/step - loss: 0.0647 - accuracy: 0.9794 - val_loss: 0.1571 - val_accuracy: 0.9650 - lr: 0.0010\n",
            "Epoch 63/100\n",
            "338/338 [==============================] - 8s 25ms/step - loss: 0.0703 - accuracy: 0.9764 - val_loss: 0.1569 - val_accuracy: 0.9650 - lr: 0.0010\n",
            "Epoch 64/100\n",
            "338/338 [==============================] - 8s 25ms/step - loss: 0.0660 - accuracy: 0.9795 - val_loss: 0.1570 - val_accuracy: 0.9650 - lr: 0.0010\n",
            "Epoch 65/100\n",
            "338/338 [==============================] - 9s 25ms/step - loss: 0.0655 - accuracy: 0.9784 - val_loss: 0.1569 - val_accuracy: 0.9650 - lr: 0.0010\n",
            "Epoch 66/100\n",
            "338/338 [==============================] - 9s 25ms/step - loss: 0.0630 - accuracy: 0.9781 - val_loss: 0.1568 - val_accuracy: 0.9650 - lr: 0.0010\n",
            "Epoch 67/100\n",
            "338/338 [==============================] - 8s 25ms/step - loss: 0.0625 - accuracy: 0.9798 - val_loss: 0.1570 - val_accuracy: 0.9650 - lr: 0.0010\n",
            "Epoch 68/100\n",
            "338/338 [==============================] - 8s 25ms/step - loss: 0.0658 - accuracy: 0.9773 - val_loss: 0.1571 - val_accuracy: 0.9642 - lr: 0.0010\n",
            "Epoch 69/100\n",
            "338/338 [==============================] - 8s 25ms/step - loss: 0.0666 - accuracy: 0.9796 - val_loss: 0.1571 - val_accuracy: 0.9642 - lr: 0.0010\n",
            "Epoch 70/100\n",
            "338/338 [==============================] - 8s 25ms/step - loss: 0.0628 - accuracy: 0.9762 - val_loss: 0.1572 - val_accuracy: 0.9642 - lr: 0.0010\n",
            "Epoch 71/100\n",
            "338/338 [==============================] - 8s 25ms/step - loss: 0.0615 - accuracy: 0.9801 - val_loss: 0.1572 - val_accuracy: 0.9642 - lr: 0.0010\n",
            "Epoch 72/100\n",
            "338/338 [==============================] - 8s 25ms/step - loss: 0.0618 - accuracy: 0.9800 - val_loss: 0.1572 - val_accuracy: 0.9642 - lr: 0.0010\n",
            "Epoch 73/100\n",
            "338/338 [==============================] - 8s 25ms/step - loss: 0.0742 - accuracy: 0.9771 - val_loss: 0.1570 - val_accuracy: 0.9650 - lr: 0.0010\n",
            "Epoch 74/100\n",
            "338/338 [==============================] - 8s 25ms/step - loss: 0.0634 - accuracy: 0.9772 - val_loss: 0.1572 - val_accuracy: 0.9650 - lr: 0.0010\n",
            "Epoch 75/100\n",
            "338/338 [==============================] - 8s 25ms/step - loss: 0.0615 - accuracy: 0.9802 - val_loss: 0.1574 - val_accuracy: 0.9650 - lr: 0.0010\n",
            "Epoch 76/100\n",
            "338/338 [==============================] - 8s 25ms/step - loss: 0.0612 - accuracy: 0.9804 - val_loss: 0.1574 - val_accuracy: 0.9650 - lr: 0.0010\n",
            "Epoch 77/100\n",
            "338/338 [==============================] - 8s 25ms/step - loss: 0.0612 - accuracy: 0.9789 - val_loss: 0.1574 - val_accuracy: 0.9650 - lr: 0.0010\n",
            "Epoch 78/100\n",
            "338/338 [==============================] - 8s 25ms/step - loss: 0.0642 - accuracy: 0.9790 - val_loss: 0.1575 - val_accuracy: 0.9650 - lr: 0.0010\n",
            "Epoch 79/100\n",
            "338/338 [==============================] - 8s 25ms/step - loss: 0.0564 - accuracy: 0.9816 - val_loss: 0.1575 - val_accuracy: 0.9650 - lr: 0.0010\n",
            "Epoch 80/100\n",
            "338/338 [==============================] - 8s 25ms/step - loss: 0.0611 - accuracy: 0.9794 - val_loss: 0.1577 - val_accuracy: 0.9650 - lr: 0.0010\n",
            "Epoch 81/100\n",
            "338/338 [==============================] - 8s 25ms/step - loss: 0.0659 - accuracy: 0.9792 - val_loss: 0.1576 - val_accuracy: 0.9650 - lr: 0.0010\n",
            "Epoch 82/100\n",
            "338/338 [==============================] - 9s 25ms/step - loss: 0.0637 - accuracy: 0.9785 - val_loss: 0.1577 - val_accuracy: 0.9650 - lr: 0.0010\n",
            "Epoch 83/100\n",
            "338/338 [==============================] - 8s 25ms/step - loss: 0.0623 - accuracy: 0.9778 - val_loss: 0.1578 - val_accuracy: 0.9642 - lr: 0.0010\n",
            "Epoch 84/100\n",
            "338/338 [==============================] - 8s 25ms/step - loss: 0.0591 - accuracy: 0.9807 - val_loss: 0.1579 - val_accuracy: 0.9650 - lr: 0.0010\n",
            "Epoch 85/100\n",
            "338/338 [==============================] - 8s 25ms/step - loss: 0.0631 - accuracy: 0.9815 - val_loss: 0.1578 - val_accuracy: 0.9650 - lr: 0.0010\n",
            "Epoch 86/100\n",
            "338/338 [==============================] - 8s 25ms/step - loss: 0.0725 - accuracy: 0.9763 - val_loss: 0.1576 - val_accuracy: 0.9650 - lr: 0.0010\n",
            "Epoch 87/100\n",
            "338/338 [==============================] - 8s 25ms/step - loss: 0.0633 - accuracy: 0.9801 - val_loss: 0.1577 - val_accuracy: 0.9650 - lr: 0.0010\n",
            "Epoch 88/100\n",
            "338/338 [==============================] - 8s 25ms/step - loss: 0.0650 - accuracy: 0.9783 - val_loss: 0.1577 - val_accuracy: 0.9650 - lr: 0.0010\n",
            "Epoch 89/100\n",
            "338/338 [==============================] - 8s 25ms/step - loss: 0.0616 - accuracy: 0.9807 - val_loss: 0.1577 - val_accuracy: 0.9650 - lr: 0.0010\n",
            "Epoch 90/100\n",
            "338/338 [==============================] - 9s 25ms/step - loss: 0.0648 - accuracy: 0.9781 - val_loss: 0.1577 - val_accuracy: 0.9658 - lr: 0.0010\n",
            "Epoch 91/100\n",
            "338/338 [==============================] - 8s 25ms/step - loss: 0.0612 - accuracy: 0.9798 - val_loss: 0.1576 - val_accuracy: 0.9658 - lr: 0.0010\n",
            "Epoch 92/100\n",
            "338/338 [==============================] - 8s 24ms/step - loss: 0.0642 - accuracy: 0.9801 - val_loss: 0.1576 - val_accuracy: 0.9658 - lr: 0.0010\n",
            "Epoch 93/100\n",
            "338/338 [==============================] - 8s 25ms/step - loss: 0.0693 - accuracy: 0.9787 - val_loss: 0.1576 - val_accuracy: 0.9658 - lr: 0.0010\n",
            "Epoch 94/100\n",
            "338/338 [==============================] - 8s 25ms/step - loss: 0.0635 - accuracy: 0.9790 - val_loss: 0.1575 - val_accuracy: 0.9658 - lr: 0.0010\n",
            "Epoch 95/100\n",
            "338/338 [==============================] - 8s 25ms/step - loss: 0.0623 - accuracy: 0.9783 - val_loss: 0.1575 - val_accuracy: 0.9658 - lr: 0.0010\n",
            "Epoch 96/100\n",
            "338/338 [==============================] - 8s 25ms/step - loss: 0.0607 - accuracy: 0.9798 - val_loss: 0.1576 - val_accuracy: 0.9658 - lr: 0.0010\n",
            "Epoch 97/100\n",
            "338/338 [==============================] - 8s 25ms/step - loss: 0.0626 - accuracy: 0.9799 - val_loss: 0.1575 - val_accuracy: 0.9658 - lr: 0.0010\n",
            "Epoch 98/100\n",
            "338/338 [==============================] - 8s 25ms/step - loss: 0.0620 - accuracy: 0.9785 - val_loss: 0.1576 - val_accuracy: 0.9658 - lr: 0.0010\n",
            "Epoch 99/100\n",
            "338/338 [==============================] - 9s 25ms/step - loss: 0.0569 - accuracy: 0.9815 - val_loss: 0.1575 - val_accuracy: 0.9658 - lr: 0.0010\n",
            "Epoch 100/100\n",
            "338/338 [==============================] - 8s 25ms/step - loss: 0.0604 - accuracy: 0.9798 - val_loss: 0.1574 - val_accuracy: 0.9658 - lr: 0.0010\n"
          ]
        },
        {
          "output_type": "execute_result",
          "data": {
            "text/plain": [
              "<keras.callbacks.History at 0x7fb8926e02d0>"
            ]
          },
          "metadata": {},
          "execution_count": 12
        }
      ]
    },
    {
      "cell_type": "code",
      "source": [
        "classifier.evaluate(test_set)"
      ],
      "metadata": {
        "colab": {
          "base_uri": "https://localhost:8080/"
        },
        "id": "SxE9ORnU2PLv",
        "outputId": "c8ad2bec-fd37-47a2-d070-173117eb7f60"
      },
      "execution_count": null,
      "outputs": [
        {
          "output_type": "stream",
          "name": "stdout",
          "text": [
            "94/94 [==============================] - 2s 22ms/step - loss: 0.1287 - accuracy: 0.9713\n"
          ]
        },
        {
          "output_type": "execute_result",
          "data": {
            "text/plain": [
              "[0.12865674495697021, 0.9713333249092102]"
            ]
          },
          "metadata": {},
          "execution_count": 13
        }
      ]
    },
    {
      "cell_type": "code",
      "source": [
        "!unzip drive/MyDrive/BanglaLekha-Isolated.zip> /dev/null"
      ],
      "metadata": {
        "id": "m5X6_mpz7bSD"
      },
      "execution_count": null,
      "outputs": []
    },
    {
      "cell_type": "code",
      "source": [
        "pip install split-folders"
      ],
      "metadata": {
        "colab": {
          "base_uri": "https://localhost:8080/"
        },
        "id": "pp_aydOeBcCQ",
        "outputId": "53710741-8f5c-4fd5-b374-9827574e5694"
      },
      "execution_count": null,
      "outputs": [
        {
          "output_type": "stream",
          "name": "stdout",
          "text": [
            "Looking in indexes: https://pypi.org/simple, https://us-python.pkg.dev/colab-wheels/public/simple/\n",
            "Collecting split-folders\n",
            "  Downloading split_folders-0.5.1-py3-none-any.whl (8.4 kB)\n",
            "Installing collected packages: split-folders\n",
            "Successfully installed split-folders-0.5.1\n"
          ]
        }
      ]
    },
    {
      "cell_type": "code",
      "source": [
        "import splitfolders"
      ],
      "metadata": {
        "id": "FWpPkqXyB8f2"
      },
      "execution_count": null,
      "outputs": []
    },
    {
      "cell_type": "code",
      "source": [
        "splitfolders.ratio(\"BanglaLekha-Isolated/Images\", output=\"BanglaLekha-Isolated\",\n",
        "    seed=1337, ratio=(.8, .2), group_prefix=None, move=False)"
      ],
      "metadata": {
        "colab": {
          "base_uri": "https://localhost:8080/"
        },
        "id": "cQyJ3T3QCJMb",
        "outputId": "3ea6b8ee-ee61-471e-e138-7f20554f601d"
      },
      "execution_count": null,
      "outputs": [
        {
          "output_type": "stream",
          "name": "stderr",
          "text": [
            "Copying files: 166105 files [00:21, 7876.04 files/s]\n"
          ]
        }
      ]
    },
    {
      "cell_type": "code",
      "source": [
        "BL_test_folder = \"BanglaLekha-Isolated/val\""
      ],
      "metadata": {
        "id": "zC6HEXTzCe2x"
      },
      "execution_count": null,
      "outputs": []
    },
    {
      "cell_type": "code",
      "source": [
        "BL_test_datagen = ImageDataGenerator(rescale=1./255)\n",
        "BL_test_set = BL_test_datagen.flow_from_directory(BL_test_folder, target_size = (32, 32), \n",
        "                                                 batch_size = 32, class_mode = 'categorical',color_mode=\"grayscale\")"
      ],
      "metadata": {
        "colab": {
          "base_uri": "https://localhost:8080/"
        },
        "id": "6GZjcKV2CynO",
        "outputId": "126c99bd-6ad8-409a-c1f4-7b137cc64c25"
      },
      "execution_count": null,
      "outputs": [
        {
          "output_type": "stream",
          "name": "stdout",
          "text": [
            "Found 33252 images belonging to 84 classes.\n"
          ]
        }
      ]
    },
    {
      "cell_type": "code",
      "source": [],
      "metadata": {
        "id": "gEMZ7jIdDhTh"
      },
      "execution_count": null,
      "outputs": []
    }
  ]
}
